{
 "cells": [
  {
   "cell_type": "code",
   "execution_count": 1,
   "metadata": {},
   "outputs": [],
   "source": [
    "import re\n",
    "import torch\n",
    "import pandas as pd\n",
    "from tqdm import tqdm\n",
    "import torch.utils.data as data\n",
    "from unicodedata import normalize"
   ]
  },
  {
   "cell_type": "code",
   "execution_count": 2,
   "metadata": {},
   "outputs": [
    {
     "data": {
      "text/html": [
       "<div>\n",
       "<style scoped>\n",
       "    .dataframe tbody tr th:only-of-type {\n",
       "        vertical-align: middle;\n",
       "    }\n",
       "\n",
       "    .dataframe tbody tr th {\n",
       "        vertical-align: top;\n",
       "    }\n",
       "\n",
       "    .dataframe thead th {\n",
       "        text-align: right;\n",
       "    }\n",
       "</style>\n",
       "<table border=\"1\" class=\"dataframe\">\n",
       "  <thead>\n",
       "    <tr style=\"text-align: right;\">\n",
       "      <th></th>\n",
       "      <th>en</th>\n",
       "      <th>fr</th>\n",
       "    </tr>\n",
       "  </thead>\n",
       "  <tbody>\n",
       "    <tr>\n",
       "      <th>0</th>\n",
       "      <td>You're very clever.</td>\n",
       "      <td>Vous êtes fort ingénieuse.</td>\n",
       "    </tr>\n",
       "    <tr>\n",
       "      <th>1</th>\n",
       "      <td>Are there kids?</td>\n",
       "      <td>Y a-t-il des enfants ?</td>\n",
       "    </tr>\n",
       "    <tr>\n",
       "      <th>2</th>\n",
       "      <td>Come in.</td>\n",
       "      <td>Entrez !</td>\n",
       "    </tr>\n",
       "    <tr>\n",
       "      <th>3</th>\n",
       "      <td>Where's Boston?</td>\n",
       "      <td>Où est Boston ?</td>\n",
       "    </tr>\n",
       "    <tr>\n",
       "      <th>4</th>\n",
       "      <td>You see what I mean?</td>\n",
       "      <td>Vous voyez ce que je veux dire ?</td>\n",
       "    </tr>\n",
       "  </tbody>\n",
       "</table>\n",
       "</div>"
      ],
      "text/plain": [
       "                     en                                fr\n",
       "0   You're very clever.        Vous êtes fort ingénieuse.\n",
       "1       Are there kids?            Y a-t-il des enfants ?\n",
       "2              Come in.                          Entrez !\n",
       "3       Where's Boston?                   Où est Boston ?\n",
       "4  You see what I mean?  Vous voyez ce que je veux dire ?"
      ]
     },
     "execution_count": 2,
     "metadata": {},
     "output_type": "execute_result"
    }
   ],
   "source": [
    "df = pd.read_csv('./en-fr.txt', names = ['en', 'fr', 'attr'], usecols=['en', 'fr'], sep='\\t')\n",
    "df = df.sample(frac=1, random_state=42)\n",
    "df = df.reset_index(drop=True)\n",
    "df.head()"
   ]
  },
  {
   "cell_type": "code",
   "execution_count": 3,
   "metadata": {},
   "outputs": [
    {
     "data": {
      "text/html": [
       "<div>\n",
       "<style scoped>\n",
       "    .dataframe tbody tr th:only-of-type {\n",
       "        vertical-align: middle;\n",
       "    }\n",
       "\n",
       "    .dataframe tbody tr th {\n",
       "        vertical-align: top;\n",
       "    }\n",
       "\n",
       "    .dataframe thead th {\n",
       "        text-align: right;\n",
       "    }\n",
       "</style>\n",
       "<table border=\"1\" class=\"dataframe\">\n",
       "  <thead>\n",
       "    <tr style=\"text-align: right;\">\n",
       "      <th></th>\n",
       "      <th>en</th>\n",
       "      <th>fr</th>\n",
       "    </tr>\n",
       "  </thead>\n",
       "  <tbody>\n",
       "    <tr>\n",
       "      <th>0</th>\n",
       "      <td>youre very clever</td>\n",
       "      <td>[start] vous etes fort ingenieuse [end]</td>\n",
       "    </tr>\n",
       "    <tr>\n",
       "      <th>1</th>\n",
       "      <td>are there kids</td>\n",
       "      <td>[start] y atil des enfants  [end]</td>\n",
       "    </tr>\n",
       "    <tr>\n",
       "      <th>2</th>\n",
       "      <td>come in</td>\n",
       "      <td>[start] entrez [end]</td>\n",
       "    </tr>\n",
       "    <tr>\n",
       "      <th>3</th>\n",
       "      <td>wheres boston</td>\n",
       "      <td>[start] ou est boston [end]</td>\n",
       "    </tr>\n",
       "    <tr>\n",
       "      <th>4</th>\n",
       "      <td>you see what i mean</td>\n",
       "      <td>[start] vous voyez ce que je veux dire  [end]</td>\n",
       "    </tr>\n",
       "  </tbody>\n",
       "</table>\n",
       "</div>"
      ],
      "text/plain": [
       "                    en                                             fr\n",
       "0    youre very clever        [start] vous etes fort ingenieuse [end]\n",
       "1       are there kids              [start] y atil des enfants  [end]\n",
       "2              come in                           [start] entrez [end]\n",
       "3        wheres boston                    [start] ou est boston [end]\n",
       "4  you see what i mean  [start] vous voyez ce que je veux dire  [end]"
      ]
     },
     "execution_count": 3,
     "metadata": {},
     "output_type": "execute_result"
    }
   ],
   "source": [
    "# text cleaning\n",
    "# For English\n",
    "# 1. Remove punctuation symbols and numbers\n",
    "# 2. converting characters to lowercase\n",
    "# 3. replacing unicode characters with their AASCII equivalent.\n",
    "\n",
    "# For French\n",
    "# 1. Add <start> and <end> tokens at the beginning and endof each phrase.\n",
    "\n",
    "def clean_text(text):\n",
    "    text = normalize('NFD', text.lower())\n",
    "    text = re.sub('[^A-Za-z ]+', '', text)\n",
    "    return text\n",
    "\n",
    "def clean_prepare_text(text):\n",
    "    text = '[start] ' + clean_text(text) + ' [end]'\n",
    "    return text\n",
    "\n",
    "df['en'] = df['en'].apply(lambda text: clean_text(text))\n",
    "df['fr'] = df['fr'].apply(lambda text: clean_prepare_text(text))\n",
    "df.head()"
   ]
  },
  {
   "cell_type": "code",
   "execution_count": 4,
   "metadata": {},
   "outputs": [],
   "source": [
    "# create train-val-test split\n",
    "train_ratio = 0.8\n",
    "val_ratio = 0.1\n",
    "test_ratio = 0.1\n",
    "\n",
    "num_sentences = len(df)\n",
    "num_train = int(train_ratio * num_sentences)\n",
    "num_val = int(val_ratio * num_sentences)\n",
    "num_test = num_sentences - num_train - num_val\n",
    "\n",
    "# Shuffle the dataset\n",
    "df = df.sample(frac=1).reset_index(drop=True)\n"
   ]
  },
  {
   "cell_type": "code",
   "execution_count": 5,
   "metadata": {},
   "outputs": [],
   "source": [
    "train_df = df[:num_train]\n",
    "val_df = df[num_train:num_train+num_val]\n",
    "test_df = df[num_train+num_val:]"
   ]
  },
  {
   "cell_type": "code",
   "execution_count": 6,
   "metadata": {},
   "outputs": [
    {
     "data": {
      "text/html": [
       "<div>\n",
       "<style scoped>\n",
       "    .dataframe tbody tr th:only-of-type {\n",
       "        vertical-align: middle;\n",
       "    }\n",
       "\n",
       "    .dataframe tbody tr th {\n",
       "        vertical-align: top;\n",
       "    }\n",
       "\n",
       "    .dataframe thead th {\n",
       "        text-align: right;\n",
       "    }\n",
       "</style>\n",
       "<table border=\"1\" class=\"dataframe\">\n",
       "  <thead>\n",
       "    <tr style=\"text-align: right;\">\n",
       "      <th></th>\n",
       "      <th>en</th>\n",
       "      <th>fr</th>\n",
       "    </tr>\n",
       "  </thead>\n",
       "  <tbody>\n",
       "    <tr>\n",
       "      <th>0</th>\n",
       "      <td>this isnt easy</td>\n",
       "      <td>[start] ce nest pas facile [end]</td>\n",
       "    </tr>\n",
       "    <tr>\n",
       "      <th>1</th>\n",
       "      <td>this coat fits you</td>\n",
       "      <td>[start] ce manteau est a ta taille [end]</td>\n",
       "    </tr>\n",
       "    <tr>\n",
       "      <th>2</th>\n",
       "      <td>dont change a thing</td>\n",
       "      <td>[start] ne changez rien  [end]</td>\n",
       "    </tr>\n",
       "    <tr>\n",
       "      <th>3</th>\n",
       "      <td>im happy youre here</td>\n",
       "      <td>[start] je suis heureux que tu sois la [end]</td>\n",
       "    </tr>\n",
       "    <tr>\n",
       "      <th>4</th>\n",
       "      <td>where did you go</td>\n",
       "      <td>[start] ou vous etesvous rendue  [end]</td>\n",
       "    </tr>\n",
       "  </tbody>\n",
       "</table>\n",
       "</div>"
      ],
      "text/plain": [
       "                    en                                            fr\n",
       "0       this isnt easy              [start] ce nest pas facile [end]\n",
       "1   this coat fits you      [start] ce manteau est a ta taille [end]\n",
       "2  dont change a thing                [start] ne changez rien  [end]\n",
       "3  im happy youre here  [start] je suis heureux que tu sois la [end]\n",
       "4     where did you go        [start] ou vous etesvous rendue  [end]"
      ]
     },
     "execution_count": 6,
     "metadata": {},
     "output_type": "execute_result"
    }
   ],
   "source": [
    "train_df.head()"
   ]
  },
  {
   "cell_type": "code",
   "execution_count": 7,
   "metadata": {},
   "outputs": [
    {
     "name": "stdout",
     "output_type": "stream",
     "text": [
      "Tokenizing training data:\n"
     ]
    },
    {
     "name": "stderr",
     "output_type": "stream",
     "text": [
      "100%|██████████| 40000/40000 [00:00<00:00, 375202.47it/s]\n"
     ]
    },
    {
     "name": "stdout",
     "output_type": "stream",
     "text": [
      "Tokenizing validation data:\n"
     ]
    },
    {
     "name": "stderr",
     "output_type": "stream",
     "text": [
      "100%|██████████| 5000/5000 [00:00<00:00, 825747.92it/s]\n"
     ]
    },
    {
     "name": "stdout",
     "output_type": "stream",
     "text": [
      "Tokenizing testing data:\n"
     ]
    },
    {
     "name": "stderr",
     "output_type": "stream",
     "text": [
      "100%|██████████| 5000/5000 [00:00<00:00, 241498.87it/s]\n"
     ]
    }
   ],
   "source": [
    "# tokenization\n",
    "train_en_tokens = []\n",
    "train_fr_tokens = []\n",
    "val_en_tokens = []\n",
    "val_fr_tokens = []\n",
    "test_en_tokens = []\n",
    "test_fr_tokens = []\n",
    "en_vocab = {'<pad>': 0}  # Initialize English vocabulary with <pad> token\n",
    "fr_vocab = {'<pad>': 0}  # Initialize Bengali vocabulary with <pad> token\n",
    "\n",
    "def tokenize_sentence(sentence, vocab):\n",
    "    tokens = sentence.split()\n",
    "    token_ids = []\n",
    "    for token in tokens:\n",
    "        if token not in vocab:\n",
    "            vocab[token] = len(vocab)\n",
    "        token_ids.append(vocab[token])\n",
    "    return token_ids\n",
    "\n",
    "# Tokenizing training data\n",
    "print(\"Tokenizing training data:\")\n",
    "for en_sent, fr_sent in tqdm(zip(train_df['en'], train_df['fr']), total=len(train_df)):\n",
    "    train_en_tokens.append(tokenize_sentence(en_sent, en_vocab))\n",
    "    train_fr_tokens.append(tokenize_sentence(fr_sent, fr_vocab))\n",
    "\n",
    "# Tokenizing validation data\n",
    "print(\"Tokenizing validation data:\")\n",
    "for en_sent, fr_sent in tqdm(zip(val_df['en'], val_df['fr']), total=len(val_df)):\n",
    "    val_en_tokens.append(tokenize_sentence(en_sent, en_vocab))\n",
    "    val_fr_tokens.append(tokenize_sentence(fr_sent, fr_vocab))\n",
    "\n",
    "# Tokenizing testing data\n",
    "print(\"Tokenizing testing data:\")\n",
    "for en_sent, fr_sent in tqdm(zip(test_df['en'], test_df['fr']), total=len(test_df)):\n",
    "    test_en_tokens.append(tokenize_sentence(en_sent, en_vocab))\n",
    "    test_fr_tokens.append(tokenize_sentence(fr_sent, fr_vocab))\n",
    "\n",
    "# Update the vocabulary sizes\n",
    "src_vocab_size = len(en_vocab)\n",
    "tgt_vocab_size = len(fr_vocab)"
   ]
  },
  {
   "cell_type": "code",
   "execution_count": 8,
   "metadata": {},
   "outputs": [],
   "source": [
    "class TranslationDataset(data.Dataset):\n",
    "    def __init__(self, en_tokens, fr_tokens):\n",
    "        super().__init__()\n",
    "        self.en_tokens = en_tokens\n",
    "        self.fr_tokens = fr_tokens\n",
    "        self.max_len = max([max(len(en_token), len(fr_token)) for en_token, fr_token in zip(en_tokens, fr_tokens)]) # extract maximum length for zero padding\n",
    "\n",
    "    def __len__(self):\n",
    "        return len(self.en_tokens)\n",
    "    \n",
    "    def __getitem__(self, index):\n",
    "        en_data = self.en_tokens[index] + [0] * (self.max_len - len(self.en_tokens[index])) # post zero padding\n",
    "        fr_data = self.fr_tokens[index] + [0] * (self.max_len - len(self.fr_tokens[index])) # post zero padding\n",
    "\n",
    "        return torch.tensor(en_data), torch.tensor(fr_data)"
   ]
  },
  {
   "cell_type": "code",
   "execution_count": 9,
   "metadata": {},
   "outputs": [],
   "source": [
    "train_dataset = TranslationDataset(train_en_tokens, train_fr_tokens)\n",
    "val_dataset = TranslationDataset(val_en_tokens, val_fr_tokens)\n",
    "test_dataset = TranslationDataset(test_en_tokens, test_fr_tokens)"
   ]
  },
  {
   "cell_type": "code",
   "execution_count": 10,
   "metadata": {},
   "outputs": [],
   "source": [
    "batch_size = 64\n",
    "train_loader = torch.utils.data.DataLoader(train_dataset, batch_size=batch_size, shuffle=True)\n",
    "val_loader = torch.utils.data.DataLoader(val_dataset, batch_size=batch_size)\n",
    "test_loader = torch.utils.data.DataLoader(test_dataset, batch_size=1)"
   ]
  },
  {
   "cell_type": "code",
   "execution_count": null,
   "metadata": {},
   "outputs": [],
   "source": []
  }
 ],
 "metadata": {
  "kernelspec": {
   "display_name": "pytorch",
   "language": "python",
   "name": "python3"
  },
  "language_info": {
   "codemirror_mode": {
    "name": "ipython",
    "version": 3
   },
   "file_extension": ".py",
   "mimetype": "text/x-python",
   "name": "python",
   "nbconvert_exporter": "python",
   "pygments_lexer": "ipython3",
   "version": "3.11.9"
  }
 },
 "nbformat": 4,
 "nbformat_minor": 2
}
